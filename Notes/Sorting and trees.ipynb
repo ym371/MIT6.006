{
 "cells": [
  {
   "cell_type": "markdown",
   "metadata": {},
   "source": [
    "# Sorting\n",
    "## Why sorting?\n",
    "* find a median\n",
    "* binary search\n",
    "* data compression\n",
    "\n",
    "## Insertion sort\n",
    "* <img src = \"1.png\" width = \"500\">\n",
    "* complexity: O(n^2) \n",
    "* binary insertion sort\n",
    "    * use binary search instead to find the right position\n",
    "    * time complexity:\n",
    "        * comparisons: O(nlogn)\n",
    "        * but shifting the elements still take O(n)\n",
    "        * overal complexity = O(nlogn) + O(n^2) = O(n^2)\n"
   ]
  },
  {
   "cell_type": "code",
   "execution_count": 1,
   "metadata": {},
   "outputs": [],
   "source": [
    "def insertion_sort(A):\n",
    "    \"\"\"\n",
    "    Sort list A into order, in place.\n",
    "\n",
    "    From Cormen/Leiserson/Rivest/Stein,\n",
    "    Introduction to Algorithms (second edition), page 17,\n",
    "    modified to adjust for fact that Python arrays use \n",
    "    0-indexing.\n",
    "    \"\"\"\n",
    "    for j in range(len(A)):\n",
    "        key = A[j]\n",
    "        # insert A[j] into sorted sequence A[0..j-1]\n",
    "        i = j-1\n",
    "        while i>-1 and A[i]>key:\n",
    "            A[i+1] = A[i]\n",
    "            i = i-1\n",
    "        A[i+1] = key\n",
    "    return A"
   ]
  },
  {
   "cell_type": "markdown",
   "metadata": {},
   "source": [
    "## Merge sort\n",
    "* <img src = \"2.png\" width = \"500\">\n",
    "* merge 2 sorted list: left hand/right hand each pointing at one in each list\n",
    "* time complexity\n",
    "    * O(n) to merge a total of n elements\n",
    "    * Recursively, T(n) = 2T(n/2) + O(n); T(1) = O(1)\n",
    "        * T(n) = cn + 2(cn/2) + 4(cn/4) + ... + n(cn/n) = O(nlogn)\n",
    "    * O(nlogn)\n",
    "* space complexity\n",
    "    * need O(n) auxilary space (in comparison with insertion sort with O(1) auxilary space\n",
    "        * trick: through away one of L or R to save half of auxilary space; an in-place merge sort (but running time much worse than merge sort)"
   ]
  },
  {
   "cell_type": "code",
   "execution_count": null,
   "metadata": {},
   "outputs": [],
   "source": [
    "def merge_sort(A):\n",
    "    \"\"\"\n",
    "    Sort list A into order, and return result.\n",
    "    \"\"\"\n",
    "    n = len(A)\n",
    "    if n==1: \n",
    "        return A\n",
    "    mid = n//2     # floor division\n",
    "    L = merge_sort(A[:mid])\n",
    "    R = merge_sort(A[mid:])\n",
    "    return merge(L,R)\n",
    "\n",
    "def merge(L,R):\n",
    "    \"\"\"\n",
    "    Given two sorted sequences L and R, return their merge.\n",
    "    \"\"\"\n",
    "    i = 0\n",
    "    j = 0\n",
    "    answer = []\n",
    "    while i<len(L) and j<len(R):\n",
    "        if L[i]<R[j]:\n",
    "            answer.append(L[i])\n",
    "            i += 1\n",
    "        else:\n",
    "            answer.append(R[j])\n",
    "            j += 1\n",
    "    if i<len(L):\n",
    "        answer.extend(L[i:])\n",
    "    if j<len(R):\n",
    "        answer.extend(R[j:])\n",
    "    return answer"
   ]
  },
  {
   "cell_type": "markdown",
   "metadata": {},
   "source": [
    "## Heap sort\n",
    "### Heap\n",
    "* Priority queue: A data structure implementing a set S of elements, each associated with a key, supporting the following operations\n",
    "    * insert(S,x): insert x into S\n",
    "    * max(S): return element of S with max key\n",
    "    * extract_max(S): return element of S with max key and remove it from S\n",
    "    * increase_key(S, x, k): increase the value of x's key to new value k\n",
    "* Heap: implementation of a priority queue\n",
    "    * an array visualised as a nearly complete binary tree\n",
    "    * <img src = \"3.png\" width = \"500\">\n",
    "        * root: i=1\n",
    "        * parent(i) = i/2\n",
    "        * left(i) = 2i; right(i) = 2i+1\n",
    "    * max heap and min heap have additioanl properties\n",
    "        * max heap property: the key of a node is >= than the keys of its children\n",
    "* heap sort\n",
    "    * heap operations\n",
    "        * max_heapify: correct a single violation of the heap property in a subtree at its root\n",
    "            * Assume that the trees rooted at left(i) and right(i) are max-heaps\n",
    "            * If element A[i] violates the max-heap property, correct violation by “trickling” element A[i] down the tree, making the subtree rooted at index i a max-heap\n",
    "            * <img src = \"4.png\" width = \"500\">\n",
    "            * Time complexity - number of layers of trees bounded by logn+1;so O(logn)\n",
    "            * <img src = \"5.png\" width = \"500\">\n",
    "        * build_max_heap: produce a max-heap from an unordered array\n",
    "            * <img src = \"6.png\" width = \"300\">\n",
    "            * start at n/2 because others are all leaves\n",
    "            * time complexity\n",
    "                * O(1) time for nodes one level above the leaves; O(l) for nodes l levels above the leaves\n",
    "                * total work = n/4(1c) + n/8(2c) + (n/16)(3c) + ... + 1(logn c)= cn(some thing bounded by a constant) = O(n)\n",
    "        * insert, extract_max\n",
    "    * heap_sort\n",
    "        * <img src = \"7.png\" width = \"500\">\n",
    "        * time complexity O(nlogn)"
   ]
  },
  {
   "cell_type": "code",
   "execution_count": null,
   "metadata": {},
   "outputs": [],
   "source": []
  }
 ],
 "metadata": {
  "kernelspec": {
   "display_name": "Python [conda env:py3.6]",
   "language": "python",
   "name": "conda-env-py3.6-py"
  },
  "language_info": {
   "codemirror_mode": {
    "name": "ipython",
    "version": 3
   },
   "file_extension": ".py",
   "mimetype": "text/x-python",
   "name": "python",
   "nbconvert_exporter": "python",
   "pygments_lexer": "ipython3",
   "version": "3.6.8"
  },
  "toc": {
   "base_numbering": 1,
   "nav_menu": {},
   "number_sections": true,
   "sideBar": true,
   "skip_h1_title": false,
   "title_cell": "Table of Contents",
   "title_sidebar": "Contents",
   "toc_cell": false,
   "toc_position": {},
   "toc_section_display": true,
   "toc_window_display": false
  }
 },
 "nbformat": 4,
 "nbformat_minor": 2
}
